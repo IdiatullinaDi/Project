{
 "cells": [
  {
   "cell_type": "markdown",
   "metadata": {},
   "source": [
    "# Анализ базы данных мобильного приложения"
   ]
  },
  {
   "cell_type": "markdown",
   "metadata": {},
   "source": [
    "## Описание проекта\n",
    "\n",
    "Компания преобрела крупный сервис для чтения книг по подписке и теперь нуждается в анализе данных для дальнейшего построения бизнеса. \n",
    "\n",
    "**Основная цель исследования** - провести анализ базы данных, содержащей информацию о книгах, издательствах, авторах,  пользовательских обзорах и оценках, чтобы в дальнейшем сформулировать ценностное предложение для нового продукта, который предоставляет сервис по чтению книг по подписке.\n"
   ]
  },
  {
   "cell_type": "markdown",
   "metadata": {},
   "source": [
    "###  Загрузка библиотек и изучение общей информации"
   ]
  },
  {
   "cell_type": "markdown",
   "metadata": {},
   "source": [
    "Чтобы приступить к анализу, необходимо загрузить необходимые для дальнейшей работы библиотеки."
   ]
  },
  {
   "cell_type": "code",
   "execution_count": 1,
   "metadata": {},
   "outputs": [],
   "source": [
    "# импортируем библиотеки\n",
    "import pandas as pd\n",
    "from sqlalchemy import text, create_engine"
   ]
  },
  {
   "cell_type": "markdown",
   "metadata": {},
   "source": [
    "Настроим доступ к базе данных, установив необходимые параметры для этого."
   ]
  },
  {
   "cell_type": "code",
   "execution_count": 2,
   "metadata": {},
   "outputs": [],
   "source": [
    "# устанавливаем параметры\n",
    "db_config = {'user': 'praktikum_student', # имя пользователя\n",
    "'pwd': 'Sdf4$2;d-d30pp', # пароль\n",
    "'host': 'rc1b-wcoijxj3yxfsf3fs.mdb.yandexcloud.net',\n",
    "'port': 6432, # порт подключения\n",
    "'db': 'data-analyst-final-project-db'} # название базы данных\n",
    "connection_string = 'postgresql://{user}:{pwd}@{host}:{port}/{db}'.format(**db_config)\n",
    "# сохраняем коннектор\n",
    "engine = create_engine(connection_string, connect_args={'sslmode':'require'})"
   ]
  },
  {
   "cell_type": "markdown",
   "metadata": {},
   "source": [
    "Теперь можем изучить информацию о данных, для этого выведим таблицы на экран.\n",
    "\n",
    "Для качественной предобработки данных создадим универсальную функцию information(), которая будет на вход принимать датафрейм, а на выходе будет выводить все необходимые характеристики, поочередно применяя методы head, info, duplicated и isna."
   ]
  },
  {
   "cell_type": "code",
   "execution_count": 3,
   "metadata": {},
   "outputs": [],
   "source": [
    "#пропишем функцию\n",
    "def information(df):\n",
    "    display(df.head())\n",
    "    df.info()\n",
    "    display(df.isna().sum())\n",
    "    display(df.duplicated().value_counts())"
   ]
  },
  {
   "cell_type": "markdown",
   "metadata": {},
   "source": [
    "Выведим первые 5 строк таблицы **'books'**'"
   ]
  },
  {
   "cell_type": "code",
   "execution_count": 4,
   "metadata": {},
   "outputs": [
    {
     "data": {
      "text/html": [
       "<div>\n",
       "<style scoped>\n",
       "    .dataframe tbody tr th:only-of-type {\n",
       "        vertical-align: middle;\n",
       "    }\n",
       "\n",
       "    .dataframe tbody tr th {\n",
       "        vertical-align: top;\n",
       "    }\n",
       "\n",
       "    .dataframe thead th {\n",
       "        text-align: right;\n",
       "    }\n",
       "</style>\n",
       "<table border=\"1\" class=\"dataframe\">\n",
       "  <thead>\n",
       "    <tr style=\"text-align: right;\">\n",
       "      <th></th>\n",
       "      <th>book_id</th>\n",
       "      <th>author_id</th>\n",
       "      <th>title</th>\n",
       "      <th>num_pages</th>\n",
       "      <th>publication_date</th>\n",
       "      <th>publisher_id</th>\n",
       "    </tr>\n",
       "  </thead>\n",
       "  <tbody>\n",
       "    <tr>\n",
       "      <th>0</th>\n",
       "      <td>1</td>\n",
       "      <td>546</td>\n",
       "      <td>'Salem's Lot</td>\n",
       "      <td>594</td>\n",
       "      <td>2005-11-01</td>\n",
       "      <td>93</td>\n",
       "    </tr>\n",
       "    <tr>\n",
       "      <th>1</th>\n",
       "      <td>2</td>\n",
       "      <td>465</td>\n",
       "      <td>1 000 Places to See Before You Die</td>\n",
       "      <td>992</td>\n",
       "      <td>2003-05-22</td>\n",
       "      <td>336</td>\n",
       "    </tr>\n",
       "    <tr>\n",
       "      <th>2</th>\n",
       "      <td>3</td>\n",
       "      <td>407</td>\n",
       "      <td>13 Little Blue Envelopes (Little Blue Envelope...</td>\n",
       "      <td>322</td>\n",
       "      <td>2010-12-21</td>\n",
       "      <td>135</td>\n",
       "    </tr>\n",
       "    <tr>\n",
       "      <th>3</th>\n",
       "      <td>4</td>\n",
       "      <td>82</td>\n",
       "      <td>1491: New Revelations of the Americas Before C...</td>\n",
       "      <td>541</td>\n",
       "      <td>2006-10-10</td>\n",
       "      <td>309</td>\n",
       "    </tr>\n",
       "    <tr>\n",
       "      <th>4</th>\n",
       "      <td>5</td>\n",
       "      <td>125</td>\n",
       "      <td>1776</td>\n",
       "      <td>386</td>\n",
       "      <td>2006-07-04</td>\n",
       "      <td>268</td>\n",
       "    </tr>\n",
       "  </tbody>\n",
       "</table>\n",
       "</div>"
      ],
      "text/plain": [
       "   book_id  author_id                                              title  \\\n",
       "0        1        546                                       'Salem's Lot   \n",
       "1        2        465                 1 000 Places to See Before You Die   \n",
       "2        3        407  13 Little Blue Envelopes (Little Blue Envelope...   \n",
       "3        4         82  1491: New Revelations of the Americas Before C...   \n",
       "4        5        125                                               1776   \n",
       "\n",
       "   num_pages publication_date  publisher_id  \n",
       "0        594       2005-11-01            93  \n",
       "1        992       2003-05-22           336  \n",
       "2        322       2010-12-21           135  \n",
       "3        541       2006-10-10           309  \n",
       "4        386       2006-07-04           268  "
      ]
     },
     "metadata": {},
     "output_type": "display_data"
    },
    {
     "name": "stdout",
     "output_type": "stream",
     "text": [
      "<class 'pandas.core.frame.DataFrame'>\n",
      "RangeIndex: 1000 entries, 0 to 999\n",
      "Data columns (total 6 columns):\n",
      " #   Column            Non-Null Count  Dtype \n",
      "---  ------            --------------  ----- \n",
      " 0   book_id           1000 non-null   int64 \n",
      " 1   author_id         1000 non-null   int64 \n",
      " 2   title             1000 non-null   object\n",
      " 3   num_pages         1000 non-null   int64 \n",
      " 4   publication_date  1000 non-null   object\n",
      " 5   publisher_id      1000 non-null   int64 \n",
      "dtypes: int64(4), object(2)\n",
      "memory usage: 47.0+ KB\n"
     ]
    },
    {
     "data": {
      "text/plain": [
       "book_id             0\n",
       "author_id           0\n",
       "title               0\n",
       "num_pages           0\n",
       "publication_date    0\n",
       "publisher_id        0\n",
       "dtype: int64"
      ]
     },
     "metadata": {},
     "output_type": "display_data"
    },
    {
     "data": {
      "text/plain": [
       "False    1000\n",
       "dtype: int64"
      ]
     },
     "metadata": {},
     "output_type": "display_data"
    }
   ],
   "source": [
    "query = '''SELECT * \n",
    "FROM books \n",
    "'''\n",
    "con=engine.connect()\n",
    "books = pd.io.sql.read_sql(sql=text(query), con = con)\n",
    "information(books)"
   ]
  },
  {
   "cell_type": "markdown",
   "metadata": {},
   "source": [
    "Выведим первые 5 строк таблицы **''authors'**'"
   ]
  },
  {
   "cell_type": "code",
   "execution_count": 5,
   "metadata": {},
   "outputs": [
    {
     "data": {
      "text/html": [
       "<div>\n",
       "<style scoped>\n",
       "    .dataframe tbody tr th:only-of-type {\n",
       "        vertical-align: middle;\n",
       "    }\n",
       "\n",
       "    .dataframe tbody tr th {\n",
       "        vertical-align: top;\n",
       "    }\n",
       "\n",
       "    .dataframe thead th {\n",
       "        text-align: right;\n",
       "    }\n",
       "</style>\n",
       "<table border=\"1\" class=\"dataframe\">\n",
       "  <thead>\n",
       "    <tr style=\"text-align: right;\">\n",
       "      <th></th>\n",
       "      <th>author_id</th>\n",
       "      <th>author</th>\n",
       "    </tr>\n",
       "  </thead>\n",
       "  <tbody>\n",
       "    <tr>\n",
       "      <th>0</th>\n",
       "      <td>1</td>\n",
       "      <td>A.S. Byatt</td>\n",
       "    </tr>\n",
       "    <tr>\n",
       "      <th>1</th>\n",
       "      <td>2</td>\n",
       "      <td>Aesop/Laura Harris/Laura Gibbs</td>\n",
       "    </tr>\n",
       "    <tr>\n",
       "      <th>2</th>\n",
       "      <td>3</td>\n",
       "      <td>Agatha Christie</td>\n",
       "    </tr>\n",
       "    <tr>\n",
       "      <th>3</th>\n",
       "      <td>4</td>\n",
       "      <td>Alan Brennert</td>\n",
       "    </tr>\n",
       "    <tr>\n",
       "      <th>4</th>\n",
       "      <td>5</td>\n",
       "      <td>Alan Moore/David   Lloyd</td>\n",
       "    </tr>\n",
       "  </tbody>\n",
       "</table>\n",
       "</div>"
      ],
      "text/plain": [
       "   author_id                          author\n",
       "0          1                      A.S. Byatt\n",
       "1          2  Aesop/Laura Harris/Laura Gibbs\n",
       "2          3                 Agatha Christie\n",
       "3          4                   Alan Brennert\n",
       "4          5        Alan Moore/David   Lloyd"
      ]
     },
     "metadata": {},
     "output_type": "display_data"
    },
    {
     "name": "stdout",
     "output_type": "stream",
     "text": [
      "<class 'pandas.core.frame.DataFrame'>\n",
      "RangeIndex: 636 entries, 0 to 635\n",
      "Data columns (total 2 columns):\n",
      " #   Column     Non-Null Count  Dtype \n",
      "---  ------     --------------  ----- \n",
      " 0   author_id  636 non-null    int64 \n",
      " 1   author     636 non-null    object\n",
      "dtypes: int64(1), object(1)\n",
      "memory usage: 10.1+ KB\n"
     ]
    },
    {
     "data": {
      "text/plain": [
       "author_id    0\n",
       "author       0\n",
       "dtype: int64"
      ]
     },
     "metadata": {},
     "output_type": "display_data"
    },
    {
     "data": {
      "text/plain": [
       "False    636\n",
       "dtype: int64"
      ]
     },
     "metadata": {},
     "output_type": "display_data"
    }
   ],
   "source": [
    "query = '''SELECT * \n",
    "FROM authors \n",
    "'''\n",
    "con=engine.connect()\n",
    "authors = pd.io.sql.read_sql(sql=text(query), con = con)\n",
    "information(authors)"
   ]
  },
  {
   "cell_type": "markdown",
   "metadata": {},
   "source": [
    "Выведим первые 5 строк таблицы **''publishers'**' "
   ]
  },
  {
   "cell_type": "code",
   "execution_count": 6,
   "metadata": {},
   "outputs": [
    {
     "data": {
      "text/html": [
       "<div>\n",
       "<style scoped>\n",
       "    .dataframe tbody tr th:only-of-type {\n",
       "        vertical-align: middle;\n",
       "    }\n",
       "\n",
       "    .dataframe tbody tr th {\n",
       "        vertical-align: top;\n",
       "    }\n",
       "\n",
       "    .dataframe thead th {\n",
       "        text-align: right;\n",
       "    }\n",
       "</style>\n",
       "<table border=\"1\" class=\"dataframe\">\n",
       "  <thead>\n",
       "    <tr style=\"text-align: right;\">\n",
       "      <th></th>\n",
       "      <th>publisher_id</th>\n",
       "      <th>publisher</th>\n",
       "    </tr>\n",
       "  </thead>\n",
       "  <tbody>\n",
       "    <tr>\n",
       "      <th>0</th>\n",
       "      <td>1</td>\n",
       "      <td>Ace</td>\n",
       "    </tr>\n",
       "    <tr>\n",
       "      <th>1</th>\n",
       "      <td>2</td>\n",
       "      <td>Ace Book</td>\n",
       "    </tr>\n",
       "    <tr>\n",
       "      <th>2</th>\n",
       "      <td>3</td>\n",
       "      <td>Ace Books</td>\n",
       "    </tr>\n",
       "    <tr>\n",
       "      <th>3</th>\n",
       "      <td>4</td>\n",
       "      <td>Ace Hardcover</td>\n",
       "    </tr>\n",
       "    <tr>\n",
       "      <th>4</th>\n",
       "      <td>5</td>\n",
       "      <td>Addison Wesley Publishing Company</td>\n",
       "    </tr>\n",
       "  </tbody>\n",
       "</table>\n",
       "</div>"
      ],
      "text/plain": [
       "   publisher_id                          publisher\n",
       "0             1                                Ace\n",
       "1             2                           Ace Book\n",
       "2             3                          Ace Books\n",
       "3             4                      Ace Hardcover\n",
       "4             5  Addison Wesley Publishing Company"
      ]
     },
     "metadata": {},
     "output_type": "display_data"
    },
    {
     "name": "stdout",
     "output_type": "stream",
     "text": [
      "<class 'pandas.core.frame.DataFrame'>\n",
      "RangeIndex: 340 entries, 0 to 339\n",
      "Data columns (total 2 columns):\n",
      " #   Column        Non-Null Count  Dtype \n",
      "---  ------        --------------  ----- \n",
      " 0   publisher_id  340 non-null    int64 \n",
      " 1   publisher     340 non-null    object\n",
      "dtypes: int64(1), object(1)\n",
      "memory usage: 5.4+ KB\n"
     ]
    },
    {
     "data": {
      "text/plain": [
       "publisher_id    0\n",
       "publisher       0\n",
       "dtype: int64"
      ]
     },
     "metadata": {},
     "output_type": "display_data"
    },
    {
     "data": {
      "text/plain": [
       "False    340\n",
       "dtype: int64"
      ]
     },
     "metadata": {},
     "output_type": "display_data"
    }
   ],
   "source": [
    "query = '''SELECT * \n",
    "FROM publishers \n",
    "'''\n",
    "con=engine.connect()\n",
    "publishers = pd.io.sql.read_sql(sql=text(query), con = con)\n",
    "information(publishers)"
   ]
  },
  {
   "cell_type": "markdown",
   "metadata": {},
   "source": [
    "Выведим первые 5 строк таблицы **''ratings'**' "
   ]
  },
  {
   "cell_type": "code",
   "execution_count": 7,
   "metadata": {},
   "outputs": [
    {
     "data": {
      "text/html": [
       "<div>\n",
       "<style scoped>\n",
       "    .dataframe tbody tr th:only-of-type {\n",
       "        vertical-align: middle;\n",
       "    }\n",
       "\n",
       "    .dataframe tbody tr th {\n",
       "        vertical-align: top;\n",
       "    }\n",
       "\n",
       "    .dataframe thead th {\n",
       "        text-align: right;\n",
       "    }\n",
       "</style>\n",
       "<table border=\"1\" class=\"dataframe\">\n",
       "  <thead>\n",
       "    <tr style=\"text-align: right;\">\n",
       "      <th></th>\n",
       "      <th>rating_id</th>\n",
       "      <th>book_id</th>\n",
       "      <th>username</th>\n",
       "      <th>rating</th>\n",
       "    </tr>\n",
       "  </thead>\n",
       "  <tbody>\n",
       "    <tr>\n",
       "      <th>0</th>\n",
       "      <td>1</td>\n",
       "      <td>1</td>\n",
       "      <td>ryanfranco</td>\n",
       "      <td>4</td>\n",
       "    </tr>\n",
       "    <tr>\n",
       "      <th>1</th>\n",
       "      <td>2</td>\n",
       "      <td>1</td>\n",
       "      <td>grantpatricia</td>\n",
       "      <td>2</td>\n",
       "    </tr>\n",
       "    <tr>\n",
       "      <th>2</th>\n",
       "      <td>3</td>\n",
       "      <td>1</td>\n",
       "      <td>brandtandrea</td>\n",
       "      <td>5</td>\n",
       "    </tr>\n",
       "    <tr>\n",
       "      <th>3</th>\n",
       "      <td>4</td>\n",
       "      <td>2</td>\n",
       "      <td>lorichen</td>\n",
       "      <td>3</td>\n",
       "    </tr>\n",
       "    <tr>\n",
       "      <th>4</th>\n",
       "      <td>5</td>\n",
       "      <td>2</td>\n",
       "      <td>mariokeller</td>\n",
       "      <td>2</td>\n",
       "    </tr>\n",
       "  </tbody>\n",
       "</table>\n",
       "</div>"
      ],
      "text/plain": [
       "   rating_id  book_id       username  rating\n",
       "0          1        1     ryanfranco       4\n",
       "1          2        1  grantpatricia       2\n",
       "2          3        1   brandtandrea       5\n",
       "3          4        2       lorichen       3\n",
       "4          5        2    mariokeller       2"
      ]
     },
     "metadata": {},
     "output_type": "display_data"
    },
    {
     "name": "stdout",
     "output_type": "stream",
     "text": [
      "<class 'pandas.core.frame.DataFrame'>\n",
      "RangeIndex: 6456 entries, 0 to 6455\n",
      "Data columns (total 4 columns):\n",
      " #   Column     Non-Null Count  Dtype \n",
      "---  ------     --------------  ----- \n",
      " 0   rating_id  6456 non-null   int64 \n",
      " 1   book_id    6456 non-null   int64 \n",
      " 2   username   6456 non-null   object\n",
      " 3   rating     6456 non-null   int64 \n",
      "dtypes: int64(3), object(1)\n",
      "memory usage: 201.9+ KB\n"
     ]
    },
    {
     "data": {
      "text/plain": [
       "rating_id    0\n",
       "book_id      0\n",
       "username     0\n",
       "rating       0\n",
       "dtype: int64"
      ]
     },
     "metadata": {},
     "output_type": "display_data"
    },
    {
     "data": {
      "text/plain": [
       "False    6456\n",
       "dtype: int64"
      ]
     },
     "metadata": {},
     "output_type": "display_data"
    }
   ],
   "source": [
    "query = '''SELECT * \n",
    "FROM ratings \n",
    "'''\n",
    "con=engine.connect()\n",
    "ratings = pd.io.sql.read_sql(sql=text(query), con = con)\n",
    "information(ratings)"
   ]
  },
  {
   "cell_type": "markdown",
   "metadata": {},
   "source": [
    "Выведим первые 5 строк таблицы **''reviews'**' "
   ]
  },
  {
   "cell_type": "code",
   "execution_count": 8,
   "metadata": {},
   "outputs": [
    {
     "data": {
      "text/html": [
       "<div>\n",
       "<style scoped>\n",
       "    .dataframe tbody tr th:only-of-type {\n",
       "        vertical-align: middle;\n",
       "    }\n",
       "\n",
       "    .dataframe tbody tr th {\n",
       "        vertical-align: top;\n",
       "    }\n",
       "\n",
       "    .dataframe thead th {\n",
       "        text-align: right;\n",
       "    }\n",
       "</style>\n",
       "<table border=\"1\" class=\"dataframe\">\n",
       "  <thead>\n",
       "    <tr style=\"text-align: right;\">\n",
       "      <th></th>\n",
       "      <th>review_id</th>\n",
       "      <th>book_id</th>\n",
       "      <th>username</th>\n",
       "      <th>text</th>\n",
       "    </tr>\n",
       "  </thead>\n",
       "  <tbody>\n",
       "    <tr>\n",
       "      <th>0</th>\n",
       "      <td>1</td>\n",
       "      <td>1</td>\n",
       "      <td>brandtandrea</td>\n",
       "      <td>Mention society tell send professor analysis. ...</td>\n",
       "    </tr>\n",
       "    <tr>\n",
       "      <th>1</th>\n",
       "      <td>2</td>\n",
       "      <td>1</td>\n",
       "      <td>ryanfranco</td>\n",
       "      <td>Foot glass pretty audience hit themselves. Amo...</td>\n",
       "    </tr>\n",
       "    <tr>\n",
       "      <th>2</th>\n",
       "      <td>3</td>\n",
       "      <td>2</td>\n",
       "      <td>lorichen</td>\n",
       "      <td>Listen treat keep worry. Miss husband tax but ...</td>\n",
       "    </tr>\n",
       "    <tr>\n",
       "      <th>3</th>\n",
       "      <td>4</td>\n",
       "      <td>3</td>\n",
       "      <td>johnsonamanda</td>\n",
       "      <td>Finally month interesting blue could nature cu...</td>\n",
       "    </tr>\n",
       "    <tr>\n",
       "      <th>4</th>\n",
       "      <td>5</td>\n",
       "      <td>3</td>\n",
       "      <td>scotttamara</td>\n",
       "      <td>Nation purpose heavy give wait song will. List...</td>\n",
       "    </tr>\n",
       "  </tbody>\n",
       "</table>\n",
       "</div>"
      ],
      "text/plain": [
       "   review_id  book_id       username  \\\n",
       "0          1        1   brandtandrea   \n",
       "1          2        1     ryanfranco   \n",
       "2          3        2       lorichen   \n",
       "3          4        3  johnsonamanda   \n",
       "4          5        3    scotttamara   \n",
       "\n",
       "                                                text  \n",
       "0  Mention society tell send professor analysis. ...  \n",
       "1  Foot glass pretty audience hit themselves. Amo...  \n",
       "2  Listen treat keep worry. Miss husband tax but ...  \n",
       "3  Finally month interesting blue could nature cu...  \n",
       "4  Nation purpose heavy give wait song will. List...  "
      ]
     },
     "metadata": {},
     "output_type": "display_data"
    },
    {
     "name": "stdout",
     "output_type": "stream",
     "text": [
      "<class 'pandas.core.frame.DataFrame'>\n",
      "RangeIndex: 2793 entries, 0 to 2792\n",
      "Data columns (total 4 columns):\n",
      " #   Column     Non-Null Count  Dtype \n",
      "---  ------     --------------  ----- \n",
      " 0   review_id  2793 non-null   int64 \n",
      " 1   book_id    2793 non-null   int64 \n",
      " 2   username   2793 non-null   object\n",
      " 3   text       2793 non-null   object\n",
      "dtypes: int64(2), object(2)\n",
      "memory usage: 87.4+ KB\n"
     ]
    },
    {
     "data": {
      "text/plain": [
       "review_id    0\n",
       "book_id      0\n",
       "username     0\n",
       "text         0\n",
       "dtype: int64"
      ]
     },
     "metadata": {},
     "output_type": "display_data"
    },
    {
     "data": {
      "text/plain": [
       "False    2793\n",
       "dtype: int64"
      ]
     },
     "metadata": {},
     "output_type": "display_data"
    }
   ],
   "source": [
    "query = '''SELECT * \n",
    "FROM reviews \n",
    "'''\n",
    "con=engine.connect()\n",
    "reviews = pd.io.sql.read_sql(sql=text(query), con = con)\n",
    "information(reviews)"
   ]
  },
  {
   "cell_type": "markdown",
   "metadata": {},
   "source": [
    "Итак, все данные загружены, дубликатов и пропусков в данных нет, данные в столбцах отображены корректно. "
   ]
  },
  {
   "cell_type": "markdown",
   "metadata": {},
   "source": [
    "##  Задание 1"
   ]
  },
  {
   "cell_type": "markdown",
   "metadata": {},
   "source": [
    "Необходимо посчитать, сколько книг вышло после 1 января 2000 года."
   ]
  },
  {
   "cell_type": "code",
   "execution_count": 9,
   "metadata": {},
   "outputs": [
    {
     "data": {
      "text/html": [
       "<div>\n",
       "<style scoped>\n",
       "    .dataframe tbody tr th:only-of-type {\n",
       "        vertical-align: middle;\n",
       "    }\n",
       "\n",
       "    .dataframe tbody tr th {\n",
       "        vertical-align: top;\n",
       "    }\n",
       "\n",
       "    .dataframe thead th {\n",
       "        text-align: right;\n",
       "    }\n",
       "</style>\n",
       "<table border=\"1\" class=\"dataframe\">\n",
       "  <thead>\n",
       "    <tr style=\"text-align: right;\">\n",
       "      <th></th>\n",
       "      <th>count</th>\n",
       "    </tr>\n",
       "  </thead>\n",
       "  <tbody>\n",
       "    <tr>\n",
       "      <th>0</th>\n",
       "      <td>819</td>\n",
       "    </tr>\n",
       "  </tbody>\n",
       "</table>\n",
       "</div>"
      ],
      "text/plain": [
       "   count\n",
       "0    819"
      ]
     },
     "execution_count": 9,
     "metadata": {},
     "output_type": "execute_result"
    }
   ],
   "source": [
    "query = '''SELECT COUNT(book_id) \n",
    "FROM books \n",
    "WHERE publication_date::date > '01-01-2000'\n",
    "'''\n",
    "con=engine.connect()\n",
    "pd.io.sql.read_sql(sql=text(query), con = con)"
   ]
  },
  {
   "cell_type": "markdown",
   "metadata": {},
   "source": [
    "**819** книг вышло после 1 января 2000 года"
   ]
  },
  {
   "cell_type": "markdown",
   "metadata": {},
   "source": [
    "##  Задание 2"
   ]
  },
  {
   "cell_type": "markdown",
   "metadata": {},
   "source": [
    "Для каждой книги необходимо посчитать количество обзоров и среднюю оценку."
   ]
  },
  {
   "cell_type": "code",
   "execution_count": 10,
   "metadata": {},
   "outputs": [
    {
     "data": {
      "text/html": [
       "<div>\n",
       "<style scoped>\n",
       "    .dataframe tbody tr th:only-of-type {\n",
       "        vertical-align: middle;\n",
       "    }\n",
       "\n",
       "    .dataframe tbody tr th {\n",
       "        vertical-align: top;\n",
       "    }\n",
       "\n",
       "    .dataframe thead th {\n",
       "        text-align: right;\n",
       "    }\n",
       "</style>\n",
       "<table border=\"1\" class=\"dataframe\">\n",
       "  <thead>\n",
       "    <tr style=\"text-align: right;\">\n",
       "      <th></th>\n",
       "      <th>book_id</th>\n",
       "      <th>title</th>\n",
       "      <th>avg_rating</th>\n",
       "      <th>count_review</th>\n",
       "    </tr>\n",
       "  </thead>\n",
       "  <tbody>\n",
       "    <tr>\n",
       "      <th>0</th>\n",
       "      <td>948</td>\n",
       "      <td>Twilight (Twilight  #1)</td>\n",
       "      <td>3.66</td>\n",
       "      <td>7</td>\n",
       "    </tr>\n",
       "    <tr>\n",
       "      <th>1</th>\n",
       "      <td>963</td>\n",
       "      <td>Water for Elephants</td>\n",
       "      <td>3.98</td>\n",
       "      <td>6</td>\n",
       "    </tr>\n",
       "    <tr>\n",
       "      <th>2</th>\n",
       "      <td>734</td>\n",
       "      <td>The Glass Castle</td>\n",
       "      <td>4.21</td>\n",
       "      <td>6</td>\n",
       "    </tr>\n",
       "    <tr>\n",
       "      <th>3</th>\n",
       "      <td>302</td>\n",
       "      <td>Harry Potter and the Prisoner of Azkaban (Harr...</td>\n",
       "      <td>4.41</td>\n",
       "      <td>6</td>\n",
       "    </tr>\n",
       "    <tr>\n",
       "      <th>4</th>\n",
       "      <td>695</td>\n",
       "      <td>The Curious Incident of the Dog in the Night-Time</td>\n",
       "      <td>4.08</td>\n",
       "      <td>6</td>\n",
       "    </tr>\n",
       "    <tr>\n",
       "      <th>...</th>\n",
       "      <td>...</td>\n",
       "      <td>...</td>\n",
       "      <td>...</td>\n",
       "      <td>...</td>\n",
       "    </tr>\n",
       "    <tr>\n",
       "      <th>995</th>\n",
       "      <td>83</td>\n",
       "      <td>Anne Rice's The Vampire Lestat: A Graphic Novel</td>\n",
       "      <td>NaN</td>\n",
       "      <td>0</td>\n",
       "    </tr>\n",
       "    <tr>\n",
       "      <th>996</th>\n",
       "      <td>808</td>\n",
       "      <td>The Natural Way to Draw</td>\n",
       "      <td>NaN</td>\n",
       "      <td>0</td>\n",
       "    </tr>\n",
       "    <tr>\n",
       "      <th>997</th>\n",
       "      <td>672</td>\n",
       "      <td>The Cat in the Hat and Other Dr. Seuss Favorites</td>\n",
       "      <td>NaN</td>\n",
       "      <td>0</td>\n",
       "    </tr>\n",
       "    <tr>\n",
       "      <th>998</th>\n",
       "      <td>221</td>\n",
       "      <td>Essential Tales and Poems</td>\n",
       "      <td>NaN</td>\n",
       "      <td>0</td>\n",
       "    </tr>\n",
       "    <tr>\n",
       "      <th>999</th>\n",
       "      <td>191</td>\n",
       "      <td>Disney's Beauty and the Beast (A Little Golden...</td>\n",
       "      <td>NaN</td>\n",
       "      <td>0</td>\n",
       "    </tr>\n",
       "  </tbody>\n",
       "</table>\n",
       "<p>1000 rows × 4 columns</p>\n",
       "</div>"
      ],
      "text/plain": [
       "     book_id                                              title  avg_rating  \\\n",
       "0        948                            Twilight (Twilight  #1)        3.66   \n",
       "1        963                                Water for Elephants        3.98   \n",
       "2        734                                   The Glass Castle        4.21   \n",
       "3        302  Harry Potter and the Prisoner of Azkaban (Harr...        4.41   \n",
       "4        695  The Curious Incident of the Dog in the Night-Time        4.08   \n",
       "..       ...                                                ...         ...   \n",
       "995       83    Anne Rice's The Vampire Lestat: A Graphic Novel         NaN   \n",
       "996      808                            The Natural Way to Draw         NaN   \n",
       "997      672   The Cat in the Hat and Other Dr. Seuss Favorites         NaN   \n",
       "998      221                          Essential Tales and Poems         NaN   \n",
       "999      191  Disney's Beauty and the Beast (A Little Golden...         NaN   \n",
       "\n",
       "     count_review  \n",
       "0               7  \n",
       "1               6  \n",
       "2               6  \n",
       "3               6  \n",
       "4               6  \n",
       "..            ...  \n",
       "995             0  \n",
       "996             0  \n",
       "997             0  \n",
       "998             0  \n",
       "999             0  \n",
       "\n",
       "[1000 rows x 4 columns]"
      ]
     },
     "execution_count": 10,
     "metadata": {},
     "output_type": "execute_result"
    }
   ],
   "source": [
    "query = '''SELECT b.book_id,\n",
    "                  b.title,\n",
    "                  ROUND(AVG(ra.rating ), 2) AS avg_rating,\n",
    "                  COUNT(DISTINCT r.review_id) AS count_review\n",
    "FROM books AS b\n",
    "LEFT JOIN reviews AS r ON b.book_id = r.book_id\n",
    "LEFT JOIN ratings AS ra ON r.book_id = ra.book_id\n",
    "GROUP BY b.book_id\n",
    "ORDER BY count_review DESC\n",
    "'''\n",
    "con=engine.connect()\n",
    "pd.io.sql.read_sql(sql=text(query), con = con)"
   ]
  },
  {
   "cell_type": "markdown",
   "metadata": {},
   "source": [
    "Итак, получилась таблица с средней оценкой каждой книги, отсортированная по убыванию количества обзоров.\n",
    "\n",
    "Можно заметить, что книга Twilight (Twilight #1) получила наибольшее число обзоров. "
   ]
  },
  {
   "cell_type": "markdown",
   "metadata": {},
   "source": [
    "##  Задание 3"
   ]
  },
  {
   "cell_type": "markdown",
   "metadata": {},
   "source": [
    "Необходимо определить издательство, которое выпустило наибольшее число книг толще 50 страниц — так мы исключим из анализа брошюры."
   ]
  },
  {
   "cell_type": "code",
   "execution_count": 11,
   "metadata": {},
   "outputs": [
    {
     "data": {
      "text/html": [
       "<div>\n",
       "<style scoped>\n",
       "    .dataframe tbody tr th:only-of-type {\n",
       "        vertical-align: middle;\n",
       "    }\n",
       "\n",
       "    .dataframe tbody tr th {\n",
       "        vertical-align: top;\n",
       "    }\n",
       "\n",
       "    .dataframe thead th {\n",
       "        text-align: right;\n",
       "    }\n",
       "</style>\n",
       "<table border=\"1\" class=\"dataframe\">\n",
       "  <thead>\n",
       "    <tr style=\"text-align: right;\">\n",
       "      <th></th>\n",
       "      <th>publisher</th>\n",
       "      <th>count_books</th>\n",
       "    </tr>\n",
       "  </thead>\n",
       "  <tbody>\n",
       "    <tr>\n",
       "      <th>0</th>\n",
       "      <td>Penguin Books</td>\n",
       "      <td>42</td>\n",
       "    </tr>\n",
       "  </tbody>\n",
       "</table>\n",
       "</div>"
      ],
      "text/plain": [
       "       publisher  count_books\n",
       "0  Penguin Books           42"
      ]
     },
     "execution_count": 11,
     "metadata": {},
     "output_type": "execute_result"
    }
   ],
   "source": [
    "query = '''SELECT p.publisher,\n",
    "           COUNT(DISTINCT b.book_id) AS count_books          \n",
    "FROM books AS b\n",
    "JOIN publishers AS p ON b.publisher_id = p.publisher_id\n",
    "WHERE num_pages > 50\n",
    "GROUP BY p.publisher\n",
    "ORDER BY count_books DESC\n",
    "LIMIT 1\n",
    "'''\n",
    "con=engine.connect()\n",
    "pd.io.sql.read_sql(sql=text(query), con = con)"
   ]
  },
  {
   "cell_type": "markdown",
   "metadata": {},
   "source": [
    "Издательство 'Penguin Books' выпустило больше всего книг - 42 книги. "
   ]
  },
  {
   "cell_type": "markdown",
   "metadata": {},
   "source": [
    "##  Задание 4"
   ]
  },
  {
   "cell_type": "markdown",
   "metadata": {},
   "source": [
    "Необходимо определить автора с самой высокой средней оценкой книг — учитывайте только книги с 50 и более оценками;"
   ]
  },
  {
   "cell_type": "code",
   "execution_count": 12,
   "metadata": {},
   "outputs": [
    {
     "data": {
      "text/html": [
       "<div>\n",
       "<style scoped>\n",
       "    .dataframe tbody tr th:only-of-type {\n",
       "        vertical-align: middle;\n",
       "    }\n",
       "\n",
       "    .dataframe tbody tr th {\n",
       "        vertical-align: top;\n",
       "    }\n",
       "\n",
       "    .dataframe thead th {\n",
       "        text-align: right;\n",
       "    }\n",
       "</style>\n",
       "<table border=\"1\" class=\"dataframe\">\n",
       "  <thead>\n",
       "    <tr style=\"text-align: right;\">\n",
       "      <th></th>\n",
       "      <th>author</th>\n",
       "      <th>avg_rating</th>\n",
       "    </tr>\n",
       "  </thead>\n",
       "  <tbody>\n",
       "    <tr>\n",
       "      <th>0</th>\n",
       "      <td>J.K. Rowling/Mary GrandPré</td>\n",
       "      <td>4.29</td>\n",
       "    </tr>\n",
       "  </tbody>\n",
       "</table>\n",
       "</div>"
      ],
      "text/plain": [
       "                       author  avg_rating\n",
       "0  J.K. Rowling/Mary GrandPré        4.29"
      ]
     },
     "execution_count": 12,
     "metadata": {},
     "output_type": "execute_result"
    }
   ],
   "source": [
    "query = '''SELECT author,\n",
    "           ROUND(AVG(rating), 2) AS avg_rating\n",
    "FROM books AS b\n",
    "JOIN ratings AS r ON b.book_id = r.book_id \n",
    "JOIN authors AS a ON b.author_id = a.author_id\n",
    "WHERE b.book_id IN (SELECT book_id\n",
    "                    FROM ratings\n",
    "                    GROUP BY book_id\n",
    "                    HAVING COUNT(*) >= 50)\n",
    "GROUP BY author\n",
    "ORDER BY avg_rating DESC\n",
    "LIMIT 1\n",
    "'''\n",
    "con=engine.connect()\n",
    "pd.io.sql.read_sql(sql=text(query), con = con)"
   ]
  },
  {
   "cell_type": "markdown",
   "metadata": {},
   "source": [
    "Автор J.K. Rowling/Mary GrandPré имеет самый высокий средний рейтинг книг среди книг с 50 и более оценок."
   ]
  },
  {
   "cell_type": "markdown",
   "metadata": {},
   "source": [
    "##  Задание 5"
   ]
  },
  {
   "cell_type": "markdown",
   "metadata": {},
   "source": [
    "Необходимо посчитать среднее количество обзоров от пользователей, которые поставили больше 48 оценок."
   ]
  },
  {
   "cell_type": "code",
   "execution_count": 13,
   "metadata": {},
   "outputs": [
    {
     "data": {
      "text/html": [
       "<div>\n",
       "<style scoped>\n",
       "    .dataframe tbody tr th:only-of-type {\n",
       "        vertical-align: middle;\n",
       "    }\n",
       "\n",
       "    .dataframe tbody tr th {\n",
       "        vertical-align: top;\n",
       "    }\n",
       "\n",
       "    .dataframe thead th {\n",
       "        text-align: right;\n",
       "    }\n",
       "</style>\n",
       "<table border=\"1\" class=\"dataframe\">\n",
       "  <thead>\n",
       "    <tr style=\"text-align: right;\">\n",
       "      <th></th>\n",
       "      <th>avg_count_rew</th>\n",
       "    </tr>\n",
       "  </thead>\n",
       "  <tbody>\n",
       "    <tr>\n",
       "      <th>0</th>\n",
       "      <td>24.0</td>\n",
       "    </tr>\n",
       "  </tbody>\n",
       "</table>\n",
       "</div>"
      ],
      "text/plain": [
       "   avg_count_rew\n",
       "0           24.0"
      ]
     },
     "execution_count": 13,
     "metadata": {},
     "output_type": "execute_result"
    }
   ],
   "source": [
    "query = '''WITH data_1 AS (SELECT username,\n",
    "                  COUNT(review_id) AS count_rew\n",
    "FROM reviews\n",
    "WHERE username IN (SELECT username\n",
    "FROM ratings\n",
    "GROUP BY username\n",
    "HAVING COUNT(rating_id) > 48)\n",
    "GROUP BY username)\n",
    "\n",
    "SELECT ROUND(AVG(count_rew), 2) AS avg_count_rew\n",
    "FROM data_1\n",
    "'''\n",
    "con=engine.connect()\n",
    "pd.io.sql.read_sql(sql=text(query), con = con)"
   ]
  },
  {
   "cell_type": "markdown",
   "metadata": {},
   "source": [
    "Среднее количество обзоров от пользователей, которые поставили больше 48 оценок равно 24."
   ]
  },
  {
   "cell_type": "markdown",
   "metadata": {},
   "source": [
    "# Вывод"
   ]
  },
  {
   "cell_type": "markdown",
   "metadata": {},
   "source": [
    "На основе проведенного анализа можно сделать следующие **выводы:**\n",
    "- приложение имеет 819 книг, выпущенных после 1 января 2000 года\n",
    "- посчитаны и собраны данные в единую таблицу о каждой книге, о количестве обзоров на произведение и высчитана средняя оценка\n",
    "- издательство Penguin Books выпустило больше всего книг - 42\n",
    "- автор J.K. Rowling/Mary GrandPré имеет самый высокий средний рейтинг книг \n",
    "- среднее количество обзоров от пользователей, которые поставили больше 48 оценок равно 24.\n",
    "\n",
    "**Рекомендации:**\n",
    "- продолжить активное сотрудничество с издательством Penguin Books, так как они выпустили наибольшее количество книг\n",
    "- начать сотрудничать с авторами, имеющими высокие оценки за книги, чтобы продвигать их книги через рекламные кампании, тем самым можно удержать внимание пользователей в приложении и привлечь новых юзеров\n",
    "- настроить рекомендательную систему для пользователей, чтобы для каждого пользователя был подбор книг по его интересам\n",
    "- рассмотреть вариант с добавлением в приложение аудиокниг, чтобы привлечь новую категорию пользователей, которые любят слушать книги"
   ]
  }
 ],
 "metadata": {
  "ExecuteTimeLog": [
   {
    "duration": 9006,
    "start_time": "2024-01-12T09:05:24.297Z"
   },
   {
    "duration": 2,
    "start_time": "2024-01-12T09:06:41.919Z"
   },
   {
    "duration": 4,
    "start_time": "2024-01-12T09:07:30.379Z"
   },
   {
    "duration": 588,
    "start_time": "2024-01-12T09:07:56.329Z"
   },
   {
    "duration": 7954,
    "start_time": "2024-01-12T09:07:56.919Z"
   },
   {
    "duration": 57,
    "start_time": "2024-01-12T09:08:04.874Z"
   },
   {
    "duration": 3,
    "start_time": "2024-01-12T09:08:20.700Z"
   },
   {
    "duration": 42,
    "start_time": "2024-01-12T09:11:32.157Z"
   },
   {
    "duration": 14,
    "start_time": "2024-01-12T09:12:44.252Z"
   },
   {
    "duration": 12,
    "start_time": "2024-01-12T09:12:45.761Z"
   },
   {
    "duration": 12,
    "start_time": "2024-01-12T09:13:53.513Z"
   },
   {
    "duration": 13,
    "start_time": "2024-01-12T09:14:19.192Z"
   },
   {
    "duration": 13,
    "start_time": "2024-01-12T09:18:56.865Z"
   },
   {
    "duration": 677,
    "start_time": "2024-01-12T09:19:05.762Z"
   },
   {
    "duration": 8176,
    "start_time": "2024-01-12T09:19:06.441Z"
   },
   {
    "duration": 48,
    "start_time": "2024-01-12T09:19:14.619Z"
   },
   {
    "duration": 30,
    "start_time": "2024-01-12T09:19:14.669Z"
   },
   {
    "duration": 11,
    "start_time": "2024-01-12T09:19:14.701Z"
   },
   {
    "duration": 15,
    "start_time": "2024-01-12T09:19:14.714Z"
   },
   {
    "duration": 12,
    "start_time": "2024-01-12T09:19:14.731Z"
   },
   {
    "duration": 15,
    "start_time": "2024-01-12T09:30:57.908Z"
   },
   {
    "duration": 20,
    "start_time": "2024-01-12T09:33:25.185Z"
   },
   {
    "duration": 14,
    "start_time": "2024-01-12T09:37:02.968Z"
   },
   {
    "duration": 5,
    "start_time": "2024-01-12T09:37:14.000Z"
   },
   {
    "duration": 13,
    "start_time": "2024-01-12T09:37:39.648Z"
   },
   {
    "duration": 11,
    "start_time": "2024-01-12T09:38:14.305Z"
   },
   {
    "duration": 88,
    "start_time": "2024-01-12T09:39:27.920Z"
   },
   {
    "duration": 582,
    "start_time": "2024-01-12T09:39:46.623Z"
   },
   {
    "duration": 7692,
    "start_time": "2024-01-12T09:39:47.208Z"
   },
   {
    "duration": 51,
    "start_time": "2024-01-12T09:39:54.902Z"
   },
   {
    "duration": 30,
    "start_time": "2024-01-12T09:39:54.954Z"
   },
   {
    "duration": 11,
    "start_time": "2024-01-12T09:39:54.986Z"
   },
   {
    "duration": 24,
    "start_time": "2024-01-12T09:39:54.999Z"
   },
   {
    "duration": 21,
    "start_time": "2024-01-12T09:39:55.025Z"
   },
   {
    "duration": 20,
    "start_time": "2024-01-12T09:39:55.048Z"
   },
   {
    "duration": 88,
    "start_time": "2024-01-12T09:44:09.825Z"
   },
   {
    "duration": 13,
    "start_time": "2024-01-12T09:44:12.477Z"
   },
   {
    "duration": 23,
    "start_time": "2024-01-12T09:44:25.648Z"
   },
   {
    "duration": 113,
    "start_time": "2024-01-12T09:56:30.630Z"
   },
   {
    "duration": 23,
    "start_time": "2024-01-12T09:56:55.983Z"
   },
   {
    "duration": 56,
    "start_time": "2024-01-12T09:58:06.969Z"
   },
   {
    "duration": 25,
    "start_time": "2024-01-12T10:01:21.329Z"
   },
   {
    "duration": 23,
    "start_time": "2024-01-12T10:01:41.659Z"
   },
   {
    "duration": 24,
    "start_time": "2024-01-12T10:02:50.741Z"
   },
   {
    "duration": 31,
    "start_time": "2024-01-12T10:03:04.359Z"
   },
   {
    "duration": 27,
    "start_time": "2024-01-12T10:03:15.881Z"
   },
   {
    "duration": 24,
    "start_time": "2024-01-12T10:03:49.904Z"
   },
   {
    "duration": 24,
    "start_time": "2024-01-12T10:03:59.017Z"
   },
   {
    "duration": 23,
    "start_time": "2024-01-12T10:04:05.708Z"
   },
   {
    "duration": 37,
    "start_time": "2024-01-12T10:04:55.398Z"
   },
   {
    "duration": 23,
    "start_time": "2024-01-12T10:05:06.226Z"
   },
   {
    "duration": 28,
    "start_time": "2024-01-12T10:05:28.686Z"
   },
   {
    "duration": 12,
    "start_time": "2024-01-12T10:09:01.324Z"
   },
   {
    "duration": 14,
    "start_time": "2024-01-12T10:10:37.253Z"
   },
   {
    "duration": 15,
    "start_time": "2024-01-12T10:10:44.943Z"
   },
   {
    "duration": 23,
    "start_time": "2024-01-12T10:10:52.394Z"
   },
   {
    "duration": 14,
    "start_time": "2024-01-12T10:11:34.930Z"
   },
   {
    "duration": 24,
    "start_time": "2024-01-12T10:11:38.077Z"
   },
   {
    "duration": 13,
    "start_time": "2024-01-12T10:11:54.170Z"
   },
   {
    "duration": 36,
    "start_time": "2024-01-12T10:14:05.140Z"
   },
   {
    "duration": 36,
    "start_time": "2024-01-12T10:14:35.378Z"
   },
   {
    "duration": 22,
    "start_time": "2024-01-12T10:16:18.458Z"
   },
   {
    "duration": 32,
    "start_time": "2024-01-12T10:17:45.843Z"
   },
   {
    "duration": 44,
    "start_time": "2024-01-12T10:18:35.007Z"
   },
   {
    "duration": 20,
    "start_time": "2024-01-12T10:18:48.751Z"
   },
   {
    "duration": 45,
    "start_time": "2024-01-12T10:19:12.913Z"
   },
   {
    "duration": 17,
    "start_time": "2024-01-12T10:19:31.535Z"
   },
   {
    "duration": 16,
    "start_time": "2024-01-12T10:19:46.124Z"
   },
   {
    "duration": 15,
    "start_time": "2024-01-12T10:20:38.168Z"
   },
   {
    "duration": 73,
    "start_time": "2024-01-12T10:24:42.582Z"
   },
   {
    "duration": 58,
    "start_time": "2024-01-12T10:26:38.343Z"
   },
   {
    "duration": 17,
    "start_time": "2024-01-12T10:28:08.695Z"
   },
   {
    "duration": 19,
    "start_time": "2024-01-12T10:28:22.534Z"
   },
   {
    "duration": 23,
    "start_time": "2024-01-12T10:29:03.663Z"
   },
   {
    "duration": 16,
    "start_time": "2024-01-12T10:29:44.385Z"
   },
   {
    "duration": 16,
    "start_time": "2024-01-12T10:30:07.424Z"
   },
   {
    "duration": 14,
    "start_time": "2024-01-12T10:30:32.015Z"
   },
   {
    "duration": 15,
    "start_time": "2024-01-12T10:30:34.401Z"
   },
   {
    "duration": 16,
    "start_time": "2024-01-12T10:31:32.926Z"
   },
   {
    "duration": 21,
    "start_time": "2024-01-12T10:35:48.024Z"
   },
   {
    "duration": 24,
    "start_time": "2024-01-12T10:39:32.448Z"
   },
   {
    "duration": 22,
    "start_time": "2024-01-12T10:39:46.319Z"
   },
   {
    "duration": 23,
    "start_time": "2024-01-12T10:40:52.757Z"
   },
   {
    "duration": 23,
    "start_time": "2024-01-12T10:41:21.859Z"
   },
   {
    "duration": 19,
    "start_time": "2024-01-12T10:41:41.512Z"
   },
   {
    "duration": 18,
    "start_time": "2024-01-12T10:41:58.484Z"
   },
   {
    "duration": 557,
    "start_time": "2024-01-12T10:42:36.527Z"
   },
   {
    "duration": 7856,
    "start_time": "2024-01-12T10:42:37.086Z"
   },
   {
    "duration": 46,
    "start_time": "2024-01-12T10:42:44.944Z"
   },
   {
    "duration": 30,
    "start_time": "2024-01-12T10:42:44.992Z"
   },
   {
    "duration": 23,
    "start_time": "2024-01-12T10:42:45.025Z"
   },
   {
    "duration": 21,
    "start_time": "2024-01-12T10:42:45.049Z"
   },
   {
    "duration": 13,
    "start_time": "2024-01-12T10:42:45.071Z"
   },
   {
    "duration": 19,
    "start_time": "2024-01-12T10:42:45.085Z"
   },
   {
    "duration": 41,
    "start_time": "2024-01-12T10:42:45.105Z"
   },
   {
    "duration": 12,
    "start_time": "2024-01-12T10:42:45.148Z"
   },
   {
    "duration": 15,
    "start_time": "2024-01-12T10:42:45.162Z"
   },
   {
    "duration": 23,
    "start_time": "2024-01-12T10:42:45.178Z"
   },
   {
    "duration": 11,
    "start_time": "2024-01-12T10:44:56.449Z"
   },
   {
    "duration": 30,
    "start_time": "2024-01-12T10:46:55.771Z"
   },
   {
    "duration": 24,
    "start_time": "2024-01-12T10:47:14.316Z"
   },
   {
    "duration": 24,
    "start_time": "2024-01-12T10:47:21.673Z"
   },
   {
    "duration": 29,
    "start_time": "2024-01-12T10:47:35.882Z"
   },
   {
    "duration": 34,
    "start_time": "2024-01-12T10:48:22.378Z"
   },
   {
    "duration": 38,
    "start_time": "2024-01-12T10:48:46.385Z"
   },
   {
    "duration": 35,
    "start_time": "2024-01-12T10:49:01.400Z"
   },
   {
    "duration": 12,
    "start_time": "2024-01-12T10:53:08.091Z"
   },
   {
    "duration": 17,
    "start_time": "2024-01-12T10:55:44.680Z"
   },
   {
    "duration": 19,
    "start_time": "2024-01-12T10:56:05.479Z"
   },
   {
    "duration": 16,
    "start_time": "2024-01-12T10:57:57.137Z"
   },
   {
    "duration": 18,
    "start_time": "2024-01-12T10:59:08.189Z"
   },
   {
    "duration": 16,
    "start_time": "2024-01-12T11:00:11.819Z"
   },
   {
    "duration": 105,
    "start_time": "2024-01-12T11:02:11.135Z"
   },
   {
    "duration": 19,
    "start_time": "2024-01-12T11:02:16.474Z"
   },
   {
    "duration": 45,
    "start_time": "2024-01-12T11:02:37.109Z"
   },
   {
    "duration": 10,
    "start_time": "2024-01-12T11:05:25.572Z"
   },
   {
    "duration": 11,
    "start_time": "2024-01-12T11:05:28.567Z"
   },
   {
    "duration": 14,
    "start_time": "2024-01-12T11:14:02.856Z"
   },
   {
    "duration": 4,
    "start_time": "2024-01-12T11:15:34.040Z"
   },
   {
    "duration": 30,
    "start_time": "2024-01-12T11:15:48.424Z"
   },
   {
    "duration": 32,
    "start_time": "2024-01-12T11:16:41.845Z"
   },
   {
    "duration": 27,
    "start_time": "2024-01-12T11:17:08.451Z"
   },
   {
    "duration": 25,
    "start_time": "2024-01-12T11:17:27.852Z"
   },
   {
    "duration": 44,
    "start_time": "2024-01-12T11:18:01.941Z"
   },
   {
    "duration": 35,
    "start_time": "2024-01-12T11:18:24.268Z"
   },
   {
    "duration": 29,
    "start_time": "2024-01-12T11:21:06.783Z"
   },
   {
    "duration": 45,
    "start_time": "2024-01-12T11:22:15.384Z"
   },
   {
    "duration": 22,
    "start_time": "2024-01-12T11:22:47.029Z"
   },
   {
    "duration": 35,
    "start_time": "2024-01-12T11:23:08.927Z"
   },
   {
    "duration": 54,
    "start_time": "2024-01-12T11:23:33.223Z"
   },
   {
    "duration": 33,
    "start_time": "2024-01-12T11:23:59.282Z"
   },
   {
    "duration": 35,
    "start_time": "2024-01-12T11:25:14.841Z"
   },
   {
    "duration": 33,
    "start_time": "2024-01-12T11:25:40.711Z"
   },
   {
    "duration": 28,
    "start_time": "2024-01-12T11:25:59.610Z"
   },
   {
    "duration": 14,
    "start_time": "2024-01-12T11:27:51.187Z"
   },
   {
    "duration": 19,
    "start_time": "2024-01-12T11:28:44.901Z"
   },
   {
    "duration": 20,
    "start_time": "2024-01-12T11:29:26.721Z"
   },
   {
    "duration": 16,
    "start_time": "2024-01-12T11:29:51.047Z"
   },
   {
    "duration": 19,
    "start_time": "2024-01-12T11:31:53.767Z"
   },
   {
    "duration": 19,
    "start_time": "2024-01-12T11:32:28.437Z"
   },
   {
    "duration": 19,
    "start_time": "2024-01-12T11:32:32.965Z"
   },
   {
    "duration": 22,
    "start_time": "2024-01-12T11:33:54.500Z"
   },
   {
    "duration": 20,
    "start_time": "2024-01-12T11:34:01.646Z"
   },
   {
    "duration": 21,
    "start_time": "2024-01-12T11:34:50.820Z"
   },
   {
    "duration": 21,
    "start_time": "2024-01-12T11:35:33.728Z"
   },
   {
    "duration": 70,
    "start_time": "2024-01-12T11:36:11.732Z"
   },
   {
    "duration": 47,
    "start_time": "2024-01-12T11:37:09.901Z"
   },
   {
    "duration": 19,
    "start_time": "2024-01-12T11:39:03.355Z"
   },
   {
    "duration": 41,
    "start_time": "2024-01-12T11:40:03.035Z"
   },
   {
    "duration": 41,
    "start_time": "2024-01-12T11:41:02.654Z"
   },
   {
    "duration": 13,
    "start_time": "2024-01-12T11:43:50.100Z"
   },
   {
    "duration": 14,
    "start_time": "2024-01-12T11:44:30.612Z"
   },
   {
    "duration": 534,
    "start_time": "2024-01-12T11:45:11.630Z"
   },
   {
    "duration": 7732,
    "start_time": "2024-01-12T11:45:12.166Z"
   },
   {
    "duration": 4,
    "start_time": "2024-01-12T11:45:19.900Z"
   },
   {
    "duration": 110,
    "start_time": "2024-01-12T11:45:19.905Z"
   },
   {
    "duration": 53,
    "start_time": "2024-01-12T11:45:20.018Z"
   },
   {
    "duration": 25,
    "start_time": "2024-01-12T11:45:20.073Z"
   },
   {
    "duration": 42,
    "start_time": "2024-01-12T11:45:20.100Z"
   },
   {
    "duration": 57,
    "start_time": "2024-01-12T11:45:20.144Z"
   },
   {
    "duration": 11,
    "start_time": "2024-01-12T11:45:20.203Z"
   },
   {
    "duration": 48,
    "start_time": "2024-01-12T11:45:20.215Z"
   },
   {
    "duration": 13,
    "start_time": "2024-01-12T11:45:20.265Z"
   },
   {
    "duration": 39,
    "start_time": "2024-01-12T11:45:20.280Z"
   },
   {
    "duration": 14,
    "start_time": "2024-01-12T11:45:20.321Z"
   },
   {
    "duration": 577,
    "start_time": "2024-01-12T12:00:06.565Z"
   },
   {
    "duration": 8634,
    "start_time": "2024-01-12T12:00:07.143Z"
   },
   {
    "duration": 4,
    "start_time": "2024-01-12T12:00:15.778Z"
   },
   {
    "duration": 87,
    "start_time": "2024-01-12T12:00:15.783Z"
   },
   {
    "duration": 51,
    "start_time": "2024-01-12T12:00:15.873Z"
   },
   {
    "duration": 22,
    "start_time": "2024-01-12T12:00:15.926Z"
   },
   {
    "duration": 60,
    "start_time": "2024-01-12T12:00:15.950Z"
   },
   {
    "duration": 34,
    "start_time": "2024-01-12T12:00:16.012Z"
   },
   {
    "duration": 10,
    "start_time": "2024-01-12T12:00:16.048Z"
   },
   {
    "duration": 56,
    "start_time": "2024-01-12T12:00:16.060Z"
   },
   {
    "duration": 12,
    "start_time": "2024-01-12T12:00:16.118Z"
   },
   {
    "duration": 30,
    "start_time": "2024-01-12T12:00:16.132Z"
   },
   {
    "duration": 13,
    "start_time": "2024-01-12T12:00:16.164Z"
   },
   {
    "duration": 14,
    "start_time": "2024-01-12T12:02:01.681Z"
   },
   {
    "duration": 488,
    "start_time": "2024-01-13T04:57:50.779Z"
   },
   {
    "duration": 7685,
    "start_time": "2024-01-13T04:57:51.269Z"
   },
   {
    "duration": 4,
    "start_time": "2024-01-13T04:57:58.956Z"
   },
   {
    "duration": 290,
    "start_time": "2024-01-13T04:57:58.962Z"
   },
   {
    "duration": 155,
    "start_time": "2024-01-13T04:57:59.254Z"
   },
   {
    "duration": 67,
    "start_time": "2024-01-13T04:57:59.410Z"
   },
   {
    "duration": 111,
    "start_time": "2024-01-13T04:57:59.478Z"
   },
   {
    "duration": 95,
    "start_time": "2024-01-13T04:57:59.590Z"
   },
   {
    "duration": 50,
    "start_time": "2024-01-13T04:57:59.686Z"
   },
   {
    "duration": 68,
    "start_time": "2024-01-13T04:57:59.739Z"
   },
   {
    "duration": 55,
    "start_time": "2024-01-13T04:57:59.808Z"
   },
   {
    "duration": 55,
    "start_time": "2024-01-13T04:57:59.865Z"
   },
   {
    "duration": 52,
    "start_time": "2024-01-13T04:57:59.921Z"
   },
   {
    "duration": 92,
    "start_time": "2024-01-13T04:58:35.299Z"
   },
   {
    "duration": 67,
    "start_time": "2024-01-13T04:58:38.494Z"
   },
   {
    "duration": 55,
    "start_time": "2024-01-13T04:59:16.075Z"
   },
   {
    "duration": 55,
    "start_time": "2024-01-13T04:59:20.352Z"
   },
   {
    "duration": 45,
    "start_time": "2024-01-13T05:22:33.495Z"
   },
   {
    "duration": 489,
    "start_time": "2024-01-13T05:22:41.604Z"
   },
   {
    "duration": 8103,
    "start_time": "2024-01-13T05:22:42.095Z"
   },
   {
    "duration": 4,
    "start_time": "2024-01-13T05:22:50.201Z"
   },
   {
    "duration": 271,
    "start_time": "2024-01-13T05:22:50.207Z"
   },
   {
    "duration": 152,
    "start_time": "2024-01-13T05:22:50.480Z"
   },
   {
    "duration": 64,
    "start_time": "2024-01-13T05:22:50.633Z"
   },
   {
    "duration": 104,
    "start_time": "2024-01-13T05:22:50.698Z"
   },
   {
    "duration": 89,
    "start_time": "2024-01-13T05:22:50.803Z"
   },
   {
    "duration": 49,
    "start_time": "2024-01-13T05:22:50.893Z"
   },
   {
    "duration": 74,
    "start_time": "2024-01-13T05:22:50.943Z"
   },
   {
    "duration": 52,
    "start_time": "2024-01-13T05:22:51.018Z"
   },
   {
    "duration": 55,
    "start_time": "2024-01-13T05:22:51.071Z"
   },
   {
    "duration": 52,
    "start_time": "2024-01-13T05:22:51.128Z"
   },
   {
    "duration": 518,
    "start_time": "2024-01-13T05:33:52.233Z"
   },
   {
    "duration": 8298,
    "start_time": "2024-01-13T05:33:52.752Z"
   },
   {
    "duration": 3,
    "start_time": "2024-01-13T05:34:01.052Z"
   },
   {
    "duration": 289,
    "start_time": "2024-01-13T05:34:01.056Z"
   },
   {
    "duration": 135,
    "start_time": "2024-01-13T05:34:01.347Z"
   },
   {
    "duration": 62,
    "start_time": "2024-01-13T05:34:01.484Z"
   },
   {
    "duration": 118,
    "start_time": "2024-01-13T05:34:01.548Z"
   },
   {
    "duration": 94,
    "start_time": "2024-01-13T05:34:01.668Z"
   },
   {
    "duration": 50,
    "start_time": "2024-01-13T05:34:01.764Z"
   },
   {
    "duration": 74,
    "start_time": "2024-01-13T05:34:01.816Z"
   },
   {
    "duration": 52,
    "start_time": "2024-01-13T05:34:01.891Z"
   },
   {
    "duration": 56,
    "start_time": "2024-01-13T05:34:01.944Z"
   },
   {
    "duration": 54,
    "start_time": "2024-01-13T05:34:02.002Z"
   }
  ],
  "kernelspec": {
   "display_name": "Python 3 (ipykernel)",
   "language": "python",
   "name": "python3"
  },
  "language_info": {
   "codemirror_mode": {
    "name": "ipython",
    "version": 3
   },
   "file_extension": ".py",
   "mimetype": "text/x-python",
   "name": "python",
   "nbconvert_exporter": "python",
   "pygments_lexer": "ipython3",
   "version": "3.11.5"
  },
  "toc": {
   "base_numbering": 1,
   "nav_menu": {},
   "number_sections": true,
   "sideBar": true,
   "skip_h1_title": true,
   "title_cell": "Table of Contents",
   "title_sidebar": "Contents",
   "toc_cell": false,
   "toc_position": {},
   "toc_section_display": true,
   "toc_window_display": false
  }
 },
 "nbformat": 4,
 "nbformat_minor": 2
}
